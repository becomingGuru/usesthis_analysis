{
 "metadata": {
  "name": "analysis"
 },
 "nbformat": 3,
 "nbformat_minor": 0,
 "worksheets": [
  {
   "cells": [
    {
     "cell_type": "markdown",
     "metadata": {},
     "source": [
      "### Analysis of the data from usesthis.com\n",
      "\n",
      "[The Setup](usesthis.com) finds out what people use to get their job done. This is an effort to try to read and analyze that data.\n",
      "If you are not interested how the data was parsed and read, skip directly to the analysis section below."
     ]
    },
    {
     "cell_type": "code",
     "collapsed": false,
     "input": [
      "import pandas as pd\n",
      "import os, markdown, glob, yaml\n",
      "from re import match, findall, DOTALL\n",
      "base_dir = '/Users/lpd/gh/usesthis/'"
     ],
     "language": "python",
     "metadata": {},
     "outputs": [],
     "prompt_number": 1
    },
    {
     "cell_type": "markdown",
     "metadata": {},
     "source": [
      "#### Read all of the hardware and software:"
     ]
    },
    {
     "cell_type": "code",
     "collapsed": false,
     "input": [
      "wares = glob.glob('%s/wares/*'%base_dir)\n",
      "all_wares = []\n",
      "for el in wares:\n",
      "    desc = yaml.load(open(el))\n",
      "    desc['title'] = os.path.splitext(os.path.basename(el))[0]\n",
      "    all_wares.append(desc)\n",
      "p_wares = pd.DataFrame(all_wares)"
     ],
     "language": "python",
     "metadata": {},
     "outputs": [],
     "prompt_number": 2
    },
    {
     "cell_type": "code",
     "collapsed": false,
     "input": [
      "p_wares.describe()"
     ],
     "language": "python",
     "metadata": {},
     "outputs": [
      {
       "html": [
        "<div style=\"max-height:1000px;max-width:1500px;overflow:auto;\">\n",
        "<table border=\"1\" class=\"dataframe\">\n",
        "  <thead>\n",
        "    <tr style=\"text-align: right;\">\n",
        "      <th></th>\n",
        "      <th>description</th>\n",
        "      <th>name</th>\n",
        "      <th>title</th>\n",
        "      <th>type</th>\n",
        "      <th>url</th>\n",
        "    </tr>\n",
        "  </thead>\n",
        "  <tbody>\n",
        "    <tr>\n",
        "      <th>count</th>\n",
        "      <td>                3230</td>\n",
        "      <td>  3230</td>\n",
        "      <td>                       3230</td>\n",
        "      <td>     3230</td>\n",
        "      <td>                       3230</td>\n",
        "    </tr>\n",
        "    <tr>\n",
        "      <th>unique</th>\n",
        "      <td>                2807</td>\n",
        "      <td>  3221</td>\n",
        "      <td>                       3230</td>\n",
        "      <td>        2</td>\n",
        "      <td>                       3215</td>\n",
        "    </tr>\n",
        "    <tr>\n",
        "      <th>top</th>\n",
        "      <td> An electric guitar.</td>\n",
        "      <td> Unity</td>\n",
        "      <td> apex-model-edge-pro-system</td>\n",
        "      <td> software</td>\n",
        "      <td> http://www.apple.com/ipad/</td>\n",
        "    </tr>\n",
        "    <tr>\n",
        "      <th>freq</th>\n",
        "      <td>                  12</td>\n",
        "      <td>     2</td>\n",
        "      <td>                          1</td>\n",
        "      <td>     1883</td>\n",
        "      <td>                          4</td>\n",
        "    </tr>\n",
        "  </tbody>\n",
        "</table>\n",
        "</div>"
       ],
       "output_type": "pyout",
       "prompt_number": 3,
       "text": [
        "                description   name                       title      type  \\\n",
        "count                  3230   3230                        3230      3230   \n",
        "unique                 2807   3221                        3230         2   \n",
        "top     An electric guitar.  Unity  apex-model-edge-pro-system  software   \n",
        "freq                     12      2                           1      1883   \n",
        "\n",
        "                               url  \n",
        "count                         3230  \n",
        "unique                        3215  \n",
        "top     http://www.apple.com/ipad/  \n",
        "freq                             4  "
       ]
      }
     ],
     "prompt_number": 3
    },
    {
     "cell_type": "code",
     "collapsed": false,
     "input": [
      "p_wares[5:10]"
     ],
     "language": "python",
     "metadata": {},
     "outputs": [
      {
       "html": [
        "<div style=\"max-height:1000px;max-width:1500px;overflow:auto;\">\n",
        "<table border=\"1\" class=\"dataframe\">\n",
        "  <thead>\n",
        "    <tr style=\"text-align: right;\">\n",
        "      <th></th>\n",
        "      <th>description</th>\n",
        "      <th>name</th>\n",
        "      <th>title</th>\n",
        "      <th>type</th>\n",
        "      <th>url</th>\n",
        "    </tr>\n",
        "  </thead>\n",
        "  <tbody>\n",
        "    <tr>\n",
        "      <th>5</th>\n",
        "      <td>                             A basic mobile phone.</td>\n",
        "      <td>         1208</td>\n",
        "      <td>       1208</td>\n",
        "      <td> hardware</td>\n",
        "      <td> http://mobile.softpedia.com/phones/Nokia/Nokia...</td>\n",
        "    </tr>\n",
        "    <tr>\n",
        "      <th>6</th>\n",
        "      <td>                                     A mic preamp.</td>\n",
        "      <td>        12AY7</td>\n",
        "      <td>      12ay7</td>\n",
        "      <td> hardware</td>\n",
        "      <td>         http://www.ehx.com/products/12ay7-mic-pre</td>\n",
        "    </tr>\n",
        "    <tr>\n",
        "      <th>7</th>\n",
        "      <td> A web service for uploading videos from mobile...</td>\n",
        "      <td>    12seconds</td>\n",
        "      <td>  12seconds</td>\n",
        "      <td> software</td>\n",
        "      <td>                              http://12seconds.tv/</td>\n",
        "    </tr>\n",
        "    <tr>\n",
        "      <th>8</th>\n",
        "      <td> An audio plugin that emulates the 140 reverber...</td>\n",
        "      <td> 140 (plugin)</td>\n",
        "      <td>        140</td>\n",
        "      <td> software</td>\n",
        "      <td>  http://www.uaudio.com/store/reverbs/emt-140.html</td>\n",
        "    </tr>\n",
        "    <tr>\n",
        "      <th>9</th>\n",
        "      <td>                                    A fancy watch.</td>\n",
        "      <td>   150 Series</td>\n",
        "      <td> 150-series</td>\n",
        "      <td> hardware</td>\n",
        "      <td> http://www.uniformwares.com/150-series-pvd-ros...</td>\n",
        "    </tr>\n",
        "  </tbody>\n",
        "</table>\n",
        "</div>"
       ],
       "output_type": "pyout",
       "prompt_number": 4,
       "text": [
        "                                         description          name       title  \\\n",
        "5                              A basic mobile phone.          1208        1208   \n",
        "6                                      A mic preamp.         12AY7       12ay7   \n",
        "7  A web service for uploading videos from mobile...     12seconds   12seconds   \n",
        "8  An audio plugin that emulates the 140 reverber...  140 (plugin)         140   \n",
        "9                                     A fancy watch.    150 Series  150-series   \n",
        "\n",
        "       type                                                url  \n",
        "5  hardware  http://mobile.softpedia.com/phones/Nokia/Nokia...  \n",
        "6  hardware          http://www.ehx.com/products/12ay7-mic-pre  \n",
        "7  software                               http://12seconds.tv/  \n",
        "8  software   http://www.uaudio.com/store/reverbs/emt-140.html  \n",
        "9  hardware  http://www.uniformwares.com/150-series-pvd-ros...  "
       ]
      }
     ],
     "prompt_number": 4
    },
    {
     "cell_type": "markdown",
     "metadata": {},
     "source": [
      "#### Read the various interviews to obtain the links to the hardware and software they use:"
     ]
    },
    {
     "cell_type": "code",
     "collapsed": false,
     "input": [
      "interview_files = glob.glob('%s/_posts/*'%base_dir)"
     ],
     "language": "python",
     "metadata": {},
     "outputs": [],
     "prompt_number": 5
    },
    {
     "cell_type": "code",
     "collapsed": false,
     "input": [
      "all_interviews = []\n",
      "for interview_file_name in interview_files:\n",
      "    with open(interview_file_name,'r') as interview_file:\n",
      "        md_string = interview_file.read()\n",
      "        yml_header = match('(?P<yml>^---.*)\\n---', md_string, DOTALL).groupdict()['yml']\n",
      "        interview = yaml.load(yml_header)\n",
      "        interview['wares'] = [wares[1] for wares in findall('\\[([^\\[\\(\\)]+)\\]\\[([a-z0-9\\.\\-]+)?\\]', md_string) if wares[1]]\n",
      "        all_interviews.append(interview)\n",
      "interview_frame = pd.DataFrame(all_interviews)"
     ],
     "language": "python",
     "metadata": {},
     "outputs": [],
     "prompt_number": 6
    },
    {
     "cell_type": "code",
     "collapsed": false,
     "input": [
      "interview_frame"
     ],
     "language": "python",
     "metadata": {},
     "outputs": [
      {
       "output_type": "pyout",
       "prompt_number": 7,
       "text": [
        "<class 'pandas.core.frame.DataFrame'>\n",
        "Int64Index: 353 entries, 0 to 352\n",
        "Data columns:\n",
        "categories    353  non-null values\n",
        "credits       38  non-null values\n",
        "layout        353  non-null values\n",
        "slug          353  non-null values\n",
        "summary       353  non-null values\n",
        "title         353  non-null values\n",
        "wares         353  non-null values\n",
        "dtypes: object(7)"
       ]
      }
     ],
     "prompt_number": 7
    },
    {
     "cell_type": "code",
     "collapsed": false,
     "input": [
      "del interview_frame['layout']\n",
      "del interview_frame['credits']\n",
      "del interview_frame['summary']\n",
      "del interview_frame['title']"
     ],
     "language": "python",
     "metadata": {},
     "outputs": [],
     "prompt_number": 8
    },
    {
     "cell_type": "code",
     "collapsed": false,
     "input": [
      "interview_frame[5:10]"
     ],
     "language": "python",
     "metadata": {},
     "outputs": [
      {
       "html": [
        "<div style=\"max-height:1000px;max-width:1500px;overflow:auto;\">\n",
        "<table border=\"1\" class=\"dataframe\">\n",
        "  <thead>\n",
        "    <tr style=\"text-align: right;\">\n",
        "      <th></th>\n",
        "      <th>categories</th>\n",
        "      <th>slug</th>\n",
        "      <th>wares</th>\n",
        "    </tr>\n",
        "  </thead>\n",
        "  <tbody>\n",
        "    <tr>\n",
        "      <th>5</th>\n",
        "      <td>                    [artist, icon, mac]</td>\n",
        "      <td>     david.lanham</td>\n",
        "      <td> [mac-pro, intuos, cintiq, illustrator, on-the-...</td>\n",
        "    </tr>\n",
        "    <tr>\n",
        "      <th>6</th>\n",
        "      <td>                        [mac, musician]</td>\n",
        "      <td> jonathan.coulton</td>\n",
        "      <td> [mac-mini, digi-002, 376, pod-pro, mx200, ksm3...</td>\n",
        "    </tr>\n",
        "    <tr>\n",
        "      <th>7</th>\n",
        "      <td>         [developer, mac, web, windows]</td>\n",
        "      <td>              why</td>\n",
        "      <td>                                                []</td>\n",
        "    </tr>\n",
        "    <tr>\n",
        "      <th>8</th>\n",
        "      <td> [developer, mac, web, windows, writer]</td>\n",
        "      <td>     gina.trapani</td>\n",
        "      <td> [macbook-pro, icurve, jerker, g1, windows-xp, ...</td>\n",
        "    </tr>\n",
        "    <tr>\n",
        "      <th>9</th>\n",
        "      <td>                  [developer, mac, web]</td>\n",
        "      <td>      paul.graham</td>\n",
        "      <td> [macbook-air, cinema-display, google-calendar,...</td>\n",
        "    </tr>\n",
        "  </tbody>\n",
        "</table>\n",
        "</div>"
       ],
       "output_type": "pyout",
       "prompt_number": 9,
       "text": [
        "                               categories              slug  \\\n",
        "5                     [artist, icon, mac]      david.lanham   \n",
        "6                         [mac, musician]  jonathan.coulton   \n",
        "7          [developer, mac, web, windows]               why   \n",
        "8  [developer, mac, web, windows, writer]      gina.trapani   \n",
        "9                   [developer, mac, web]       paul.graham   \n",
        "\n",
        "                                               wares  \n",
        "5  [mac-pro, intuos, cintiq, illustrator, on-the-...  \n",
        "6  [mac-mini, digi-002, 376, pod-pro, mx200, ksm3...  \n",
        "7                                                 []  \n",
        "8  [macbook-pro, icurve, jerker, g1, windows-xp, ...  \n",
        "9  [macbook-air, cinema-display, google-calendar,...  "
       ]
      }
     ],
     "prompt_number": 9
    },
    {
     "cell_type": "code",
     "collapsed": false,
     "input": [
      "each_used_ware = []\n",
      "for person_ware in interview_frame.wares:\n",
      "    each_used_ware+=person_ware\n",
      "ps_wares = pd.Series(each_used_ware)"
     ],
     "language": "python",
     "metadata": {},
     "outputs": [],
     "prompt_number": 10
    },
    {
     "cell_type": "code",
     "collapsed": false,
     "input": [
      "ps_wares.value_counts()"
     ],
     "language": "python",
     "metadata": {},
     "outputs": [
      {
       "output_type": "pyout",
       "prompt_number": 11,
       "text": [
        "macbook-pro        181\n",
        "macbook-air        107\n",
        "cinema-display      78\n",
        "google-docs         69\n",
        "iphone-4            67\n",
        "mac-os-x            57\n",
        "mac-pro             56\n",
        "windows-7           47\n",
        "photoshop           44\n",
        "keyboard            40\n",
        "ipad-2              39\n",
        "mac-mini            34\n",
        "iphone-4s           33\n",
        "google-calendar     33\n",
        "google-reader       33\n",
        "...\n",
        "peekaboo-clear-console        1\n",
        "sj-xw44s                      1\n",
        "happylight-deluxe             1\n",
        "thinkpad-w701                 1\n",
        "clariphonic                   1\n",
        "vintage-warmer                1\n",
        "seesmic-desktop               1\n",
        "mirage                        1\n",
        "mac-app-store                 1\n",
        "script.aculo.us               1\n",
        "thinkpad-t40                  1\n",
        "laserjet-2100tn               1\n",
        "air-sharing-ios               1\n",
        "henge-dock                    1\n",
        "apex-model-edge-pro-system    1\n",
        "Length: 2177"
       ]
      }
     ],
     "prompt_number": 11
    },
    {
     "cell_type": "code",
     "collapsed": false,
     "input": [
      "ps_wares.value_counts()[:15].plot(kind='bar')"
     ],
     "language": "python",
     "metadata": {},
     "outputs": [
      {
       "output_type": "pyout",
       "prompt_number": 12,
       "text": [
        "<matplotlib.axes.AxesSubplot at 0x1085c8d50>"
       ]
      },
      {
       "output_type": "display_data",
       "png": "[encoded data removed]"
      }
     ],
     "prompt_number": 12
    },
    {
     "cell_type": "code",
     "collapsed": false,
     "input": [],
     "language": "python",
     "metadata": {},
     "outputs": [],
     "prompt_number": 12
    }
   ],
   "metadata": {}
  }
 ]
}