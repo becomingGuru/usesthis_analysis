{
 "metadata": {
  "name": ""
 },
 "nbformat": 3,
 "nbformat_minor": 0,
 "worksheets": [
  {
   "cells": [
    {
     "cell_type": "markdown",
     "metadata": {},
     "source": [
      "### Analysis of the data from usesthis.com\n",
      "\n",
      "The Setup at usesthis.com finds out what people use to get their job done. This is an effort to try to read and analyze that data.\n",
      "\n",
      "The base dir is the location where the github url of the usesthis repo is checked out."
     ]
    },
    {
     "cell_type": "code",
     "collapsed": false,
     "input": [
      "import pandas as pd\n",
      "import os, markdown, glob, yaml\n",
      "from re import match, findall, DOTALL\n",
      "base_dir = '/Users/lpd/gh/usesthis/'\n",
      "\n",
      "interview_files = glob.glob('%s/_posts/*'%base_dir)\n",
      "\n",
      "all_interviews = []\n",
      "for interview_file_name in interview_files:\n",
      "    with open(interview_file_name,'r') as interview_file:\n",
      "        md_string = interview_file.read()\n",
      "        yml_header = match('(?P<yml>^---.*)\\n---', md_string, DOTALL).groupdict()['yml']\n",
      "        interview = yaml.load(yml_header)\n",
      "        interview['wares'] = [wares[1] for wares in findall('\\[([^\\[\\(\\)]+)\\]\\[([a-z0-9\\.\\-]+)?\\]', md_string) if wares[1]]\n",
      "        all_interviews.append(interview)\n",
      "interview_frame = pd.DataFrame(all_interviews)\n",
      "\n",
      "del interview_frame['layout']\n",
      "del interview_frame['credits']\n",
      "del interview_frame['summary']\n",
      "del interview_frame['title']\n",
      "\n",
      "each_used_ware = []\n",
      "for person_ware in interview_frame.wares:\n",
      "    each_used_ware+=person_ware\n",
      "ps_wares = pd.Series(each_used_ware)\n",
      "\n",
      "ps_wares.value_counts()\n",
      "\n",
      "ps_wares.value_counts()[:15].plot(kind='bar')"
     ],
     "language": "python",
     "metadata": {},
     "outputs": [
      {
       "metadata": {},
       "output_type": "pyout",
       "prompt_number": 1,
       "text": [
        "<matplotlib.axes.AxesSubplot at 0x108af38d0>"
       ]
      },
      {
       "metadata": {},
       "output_type": "display_data",
       "png": "[encoded data removed]",
       "text": [
        "<matplotlib.figure.Figure at 0x108ad4b10>"
       ]
      }
     ],
     "prompt_number": 1
    },
    {
     "cell_type": "code",
     "collapsed": false,
     "input": [
      "interview_frame.ix[:10]"
     ],
     "language": "python",
     "metadata": {},
     "outputs": [
      {
       "html": [
        "<pre>\n",
        "&ltclass 'pandas.core.frame.DataFrame'&gt\n",
        "Int64Index: 11 entries, 0 to 10\n",
        "Data columns (total 4 columns):\n",
        "categories    11  non-null values\n",
        "license       0  non-null values\n",
        "slug          11  non-null values\n",
        "wares         11  non-null values\n",
        "dtypes: object(4)\n",
        "</pre>"
       ],
       "metadata": {},
       "output_type": "pyout",
       "prompt_number": 2,
       "text": [
        "                                categories license              slug  \\\n",
        "0                    [developer, mac, web]     NaN        alex.payne   \n",
        "1                          [mac, musician]     NaN     jona.bechtolt   \n",
        "2                    [game, suit, windows]     NaN       gabe.newell   \n",
        "3               [developer, mac, software]     NaN      steven.frank   \n",
        "4                            [mac, writer]     NaN       john.gruber   \n",
        "5                      [artist, icon, mac]     NaN      david.lanham   \n",
        "6                          [mac, musician]     NaN  jonathan.coulton   \n",
        "7           [developer, mac, web, windows]     NaN               why   \n",
        "8   [developer, mac, web, windows, writer]     NaN      gina.trapani   \n",
        "9                    [developer, mac, web]     NaN       paul.graham   \n",
        "10              [developer, mac, software]     NaN     james.thomson   \n",
        "\n",
        "                                                wares  \n",
        "0   [macbook-pro, cinema-display, readynas-nv-plus...  \n",
        "1   [audio-kontrol-1, powershot-sd1000, live, mda-...  \n",
        "2   [oa-desk, beyond-tv, windows-xp, office, visua...  \n",
        "3   [mac-pro, macbook-air, apple-tv, itunes, addre...  \n",
        "4   [macbook-pro, cinema-display, iphone-3g, gr-di...  \n",
        "5   [mac-pro, intuos, cintiq, illustrator, on-the-...  \n",
        "6   [mac-mini, digi-002, 376, pod-pro, mx200, ksm3...  \n",
        "7                                                  []  \n",
        "8   [macbook-pro, icurve, jerker, g1, windows-xp, ...  \n",
        "9   [macbook-air, cinema-display, google-calendar,...  \n",
        "10  [twitkitteh-ios, mac-pro, ipod-touch, filemake...  "
       ]
      }
     ],
     "prompt_number": 2
    },
    {
     "cell_type": "code",
     "collapsed": false,
     "input": [
      "interview_frame"
     ],
     "language": "python",
     "metadata": {},
     "outputs": [
      {
       "html": [
        "<pre>\n",
        "&ltclass 'pandas.core.frame.DataFrame'&gt\n",
        "Int64Index: 373 entries, 0 to 372\n",
        "Data columns (total 4 columns):\n",
        "categories    373  non-null values\n",
        "license       1  non-null values\n",
        "slug          373  non-null values\n",
        "wares         373  non-null values\n",
        "dtypes: object(4)\n",
        "</pre>"
       ],
       "metadata": {},
       "output_type": "pyout",
       "prompt_number": 3,
       "text": [
        "<class 'pandas.core.frame.DataFrame'>\n",
        "Int64Index: 373 entries, 0 to 372\n",
        "Data columns (total 4 columns):\n",
        "categories    373  non-null values\n",
        "license       1  non-null values\n",
        "slug          373  non-null values\n",
        "wares         373  non-null values\n",
        "dtypes: object(4)"
       ]
      }
     ],
     "prompt_number": 3
    },
    {
     "cell_type": "code",
     "collapsed": false,
     "input": [
      "len(ps_wares)"
     ],
     "language": "python",
     "metadata": {},
     "outputs": [
      {
       "metadata": {},
       "output_type": "pyout",
       "prompt_number": 4,
       "text": [
        "5066"
       ]
      }
     ],
     "prompt_number": 4
    },
    {
     "cell_type": "code",
     "collapsed": false,
     "input": [
      "iv_cats = interview_frame.categories"
     ],
     "language": "python",
     "metadata": {},
     "outputs": [],
     "prompt_number": 5
    },
    {
     "cell_type": "code",
     "collapsed": false,
     "input": [
      "all_cats = []\n",
      "for el in iv_cats:\n",
      "    all_cats+=el"
     ],
     "language": "python",
     "metadata": {},
     "outputs": [],
     "prompt_number": 6
    },
    {
     "cell_type": "code",
     "collapsed": false,
     "input": [
      "all_cats[:10]"
     ],
     "language": "python",
     "metadata": {},
     "outputs": [
      {
       "metadata": {},
       "output_type": "pyout",
       "prompt_number": 7,
       "text": [
        "['developer',\n",
        " 'mac',\n",
        " 'web',\n",
        " 'mac',\n",
        " 'musician',\n",
        " 'game',\n",
        " 'suit',\n",
        " 'windows',\n",
        " 'developer',\n",
        " 'mac']"
       ]
      }
     ],
     "prompt_number": 7
    },
    {
     "cell_type": "code",
     "collapsed": false,
     "input": [
      "set_cats = set(all_cats)"
     ],
     "language": "python",
     "metadata": {},
     "outputs": [],
     "prompt_number": 8
    },
    {
     "cell_type": "code",
     "collapsed": false,
     "input": [
      "len(all_cats)"
     ],
     "language": "python",
     "metadata": {},
     "outputs": [
      {
       "metadata": {},
       "output_type": "pyout",
       "prompt_number": 9,
       "text": [
        "1258"
       ]
      }
     ],
     "prompt_number": 9
    },
    {
     "cell_type": "code",
     "collapsed": false,
     "input": [
      "len(set_cats)"
     ],
     "language": "python",
     "metadata": {},
     "outputs": [
      {
       "metadata": {},
       "output_type": "pyout",
       "prompt_number": 10,
       "text": [
        "72"
       ]
      }
     ],
     "prompt_number": 10
    },
    {
     "cell_type": "code",
     "collapsed": false,
     "input": [
      "ps_all_cats = pd.Series(all_cats)"
     ],
     "language": "python",
     "metadata": {},
     "outputs": [],
     "prompt_number": 11
    },
    {
     "cell_type": "code",
     "collapsed": false,
     "input": [
      "ps_all_cats.value_counts()[:10].plot(kind='barh')"
     ],
     "language": "python",
     "metadata": {},
     "outputs": [
      {
       "metadata": {},
       "output_type": "pyout",
       "prompt_number": 12,
       "text": [
        "<matplotlib.axes.AxesSubplot at 0x108c45590>"
       ]
      },
      {
       "metadata": {},
       "output_type": "display_data",
       "png": "[encoded data removed]",
       "text": [
        "<matplotlib.figure.Figure at 0x106d08f50>"
       ]
      }
     ],
     "prompt_number": 12
    },
    {
     "cell_type": "code",
     "collapsed": false,
     "input": [
      "ps_all_cats.value_counts()[-25:].plot(kind='barh')"
     ],
     "language": "python",
     "metadata": {},
     "outputs": [
      {
       "metadata": {},
       "output_type": "pyout",
       "prompt_number": 13,
       "text": [
        "<matplotlib.axes.AxesSubplot at 0x108c68d90>"
       ]
      },
      {
       "metadata": {},
       "output_type": "display_data",
       "png": "[encoded data removed]",
       "text": [
        "<matplotlib.figure.Figure at 0x108c5a690>"
       ]
      }
     ],
     "prompt_number": 13
    },
    {
     "cell_type": "code",
     "collapsed": false,
     "input": [
      "set_wares = set(ps_wares)"
     ],
     "language": "python",
     "metadata": {},
     "outputs": [],
     "prompt_number": 14
    },
    {
     "cell_type": "code",
     "collapsed": false,
     "input": [
      "len(set_wares)"
     ],
     "language": "python",
     "metadata": {},
     "outputs": [
      {
       "metadata": {},
       "output_type": "pyout",
       "prompt_number": 15,
       "text": [
        "2236"
       ]
      }
     ],
     "prompt_number": 15
    },
    {
     "cell_type": "code",
     "collapsed": false,
     "input": [
      "wares = glob.glob('%s/wares/hardware/*'%base_dir)\n",
      "hardware = []\n",
      "for el in wares:\n",
      "    desc = yaml.load(open(el))\n",
      "    desc['title'] = os.path.splitext(os.path.basename(el))[0]\n",
      "    hardware.append(desc)"
     ],
     "language": "python",
     "metadata": {},
     "outputs": [],
     "prompt_number": 16
    },
    {
     "cell_type": "code",
     "collapsed": false,
     "input": [
      "wares = glob.glob('%s/wares/software/*'%base_dir)\n",
      "software = []\n",
      "for el in wares:\n",
      "    desc = yaml.load(open(el))\n",
      "    desc['title'] = os.path.splitext(os.path.basename(el))[0]\n",
      "    software.append(desc)"
     ],
     "language": "python",
     "metadata": {},
     "outputs": [],
     "prompt_number": 17
    },
    {
     "cell_type": "code",
     "collapsed": false,
     "input": [
      "ps_wares"
     ],
     "language": "python",
     "metadata": {},
     "outputs": [
      {
       "metadata": {},
       "output_type": "pyout",
       "prompt_number": 18,
       "text": [
        "0          macbook-pro\n",
        "1       cinema-display\n",
        "2     readynas-nv-plus\n",
        "3         time-machine\n",
        "4      airport-express\n",
        "5       safari-adblock\n",
        "6      google-calendar\n",
        "7            istat-pro\n",
        "8          google-apps\n",
        "9         review-board\n",
        "10           bloom-ios\n",
        "11       google-reader\n",
        "12              plan-9\n",
        "13     audio-kontrol-1\n",
        "14    powershot-sd1000\n",
        "...\n",
        "5051         final-cut-pro\n",
        "5052           macbook-pro\n",
        "5053           macbook-air\n",
        "5054                   27q\n",
        "5055    expansion-portable\n",
        "5056              mac-os-x\n",
        "5057        thinkpad-t410s\n",
        "5058         thinkpad-t410\n",
        "5059              iphone-5\n",
        "5060         vmware-fusion\n",
        "5061                chrome\n",
        "5062            subversion\n",
        "5063           macbook-pro\n",
        "5064           google-docs\n",
        "5065          tweetbot-ios\n",
        "Length: 5066, dtype: object"
       ]
      }
     ],
     "prompt_number": 18
    },
    {
     "cell_type": "code",
     "collapsed": false,
     "input": [
      "pf_used_ware = pd.DataFrame(ps_wares)"
     ],
     "language": "python",
     "metadata": {},
     "outputs": [],
     "prompt_number": 19
    },
    {
     "cell_type": "code",
     "collapsed": false,
     "input": [
      "pf_used_ware"
     ],
     "language": "python",
     "metadata": {},
     "outputs": [
      {
       "html": [
        "<pre>\n",
        "&ltclass 'pandas.core.frame.DataFrame'&gt\n",
        "Int64Index: 5066 entries, 0 to 5065\n",
        "Data columns (total 1 columns):\n",
        "0    5066  non-null values\n",
        "dtypes: object(1)\n",
        "</pre>"
       ],
       "metadata": {},
       "output_type": "pyout",
       "prompt_number": 20,
       "text": [
        "<class 'pandas.core.frame.DataFrame'>\n",
        "Int64Index: 5066 entries, 0 to 5065\n",
        "Data columns (total 1 columns):\n",
        "0    5066  non-null values\n",
        "dtypes: object(1)"
       ]
      }
     ],
     "prompt_number": 20
    },
    {
     "cell_type": "code",
     "collapsed": false,
     "input": [
      "pf_used_ware.columns = ['title']"
     ],
     "language": "python",
     "metadata": {},
     "outputs": [],
     "prompt_number": 21
    },
    {
     "cell_type": "code",
     "collapsed": false,
     "input": [
      "pf_used_ware"
     ],
     "language": "python",
     "metadata": {},
     "outputs": [
      {
       "html": [
        "<pre>\n",
        "&ltclass 'pandas.core.frame.DataFrame'&gt\n",
        "Int64Index: 5066 entries, 0 to 5065\n",
        "Data columns (total 1 columns):\n",
        "title    5066  non-null values\n",
        "dtypes: object(1)\n",
        "</pre>"
       ],
       "metadata": {},
       "output_type": "pyout",
       "prompt_number": 22,
       "text": [
        "<class 'pandas.core.frame.DataFrame'>\n",
        "Int64Index: 5066 entries, 0 to 5065\n",
        "Data columns (total 1 columns):\n",
        "title    5066  non-null values\n",
        "dtypes: object(1)"
       ]
      }
     ],
     "prompt_number": 22
    },
    {
     "cell_type": "code",
     "collapsed": false,
     "input": [
      "software[:2]"
     ],
     "language": "python",
     "metadata": {},
     "outputs": [
      {
       "metadata": {},
       "output_type": "pyout",
       "prompt_number": 23,
       "text": [
        "[{'description': 'An audio plugin that emulates the 1176 limiter.',\n",
        "  'name': '1176 (plugin)',\n",
        "  'title': '1176',\n",
        "  'url': 'http://www.uaudio.com/store/compressors-limiters/1176-collection.html'},\n",
        " {'description': 'A web service for uploading videos from mobile phones or webcams.',\n",
        "  'name': '12seconds',\n",
        "  'title': '12seconds',\n",
        "  'url': 'http://12seconds.tv/'}]"
       ]
      }
     ],
     "prompt_number": 23
    },
    {
     "cell_type": "code",
     "collapsed": false,
     "input": [
      "for el in software:\n",
      "    el['type'] = 'software'"
     ],
     "language": "python",
     "metadata": {},
     "outputs": [],
     "prompt_number": 24
    },
    {
     "cell_type": "code",
     "collapsed": false,
     "input": [
      "for el in hardware:\n",
      "    el['type'] = 'hardware'"
     ],
     "language": "python",
     "metadata": {},
     "outputs": [],
     "prompt_number": 25
    },
    {
     "cell_type": "code",
     "collapsed": false,
     "input": [
      "ware = hardware+software"
     ],
     "language": "python",
     "metadata": {},
     "outputs": [],
     "prompt_number": 26
    },
    {
     "cell_type": "code",
     "collapsed": false,
     "input": [
      "ware[:3]"
     ],
     "language": "python",
     "metadata": {},
     "outputs": [
      {
       "metadata": {},
       "output_type": "pyout",
       "prompt_number": 27,
       "text": [
        "[{'description': 'A very powerful scanner.',\n",
        "  'name': '10000XL',\n",
        "  'title': '10000xl',\n",
        "  'type': 'hardware',\n",
        "  'url': 'http://www.epson.com/cgi-bin/Store/jsp/Product.do?sku=E10000XL-PH'},\n",
        " {'description': 'Old speakers.',\n",
        "  'name': '104aB',\n",
        "  'title': '104ab',\n",
        "  'type': 'hardware',\n",
        "  'url': 'http://www.kef.com/html/us/explore/about_kef/museum/1970s/104aBKIT_CantataKIT/index.html'},\n",
        " {'description': 'A subwoofer.',\n",
        "  'name': '10S',\n",
        "  'title': '10s',\n",
        "  'type': 'hardware',\n",
        "  'url': 'http://www.shopping.com/KRK-KRK-10S-Subwoofer/info?sb=1'}]"
       ]
      }
     ],
     "prompt_number": 27
    },
    {
     "cell_type": "code",
     "collapsed": false,
     "input": [
      "len(ware)"
     ],
     "language": "python",
     "metadata": {},
     "outputs": [
      {
       "metadata": {},
       "output_type": "pyout",
       "prompt_number": 28,
       "text": [
        "3326"
       ]
      }
     ],
     "prompt_number": 28
    },
    {
     "cell_type": "code",
     "collapsed": false,
     "input": [
      "len(hardware)"
     ],
     "language": "python",
     "metadata": {},
     "outputs": [
      {
       "metadata": {},
       "output_type": "pyout",
       "prompt_number": 29,
       "text": [
        "1373"
       ]
      }
     ],
     "prompt_number": 29
    },
    {
     "cell_type": "code",
     "collapsed": false,
     "input": [
      "len(software)"
     ],
     "language": "python",
     "metadata": {},
     "outputs": [
      {
       "metadata": {},
       "output_type": "pyout",
       "prompt_number": 30,
       "text": [
        "1953"
       ]
      }
     ],
     "prompt_number": 30
    },
    {
     "cell_type": "code",
     "collapsed": false,
     "input": [
      "1953+1373"
     ],
     "language": "python",
     "metadata": {},
     "outputs": [
      {
       "metadata": {},
       "output_type": "pyout",
       "prompt_number": 31,
       "text": [
        "3326"
       ]
      }
     ],
     "prompt_number": 31
    },
    {
     "cell_type": "code",
     "collapsed": false,
     "input": [
      "extracted_ware = pd.DataFrame(ware)"
     ],
     "language": "python",
     "metadata": {},
     "outputs": [],
     "prompt_number": 32
    },
    {
     "cell_type": "code",
     "collapsed": false,
     "input": [
      "extracted_ware"
     ],
     "language": "python",
     "metadata": {},
     "outputs": [
      {
       "html": [
        "<pre>\n",
        "&ltclass 'pandas.core.frame.DataFrame'&gt\n",
        "Int64Index: 3326 entries, 0 to 3325\n",
        "Data columns (total 5 columns):\n",
        "description    3326  non-null values\n",
        "name           3326  non-null values\n",
        "title          3326  non-null values\n",
        "type           3326  non-null values\n",
        "url            3326  non-null values\n",
        "dtypes: object(5)\n",
        "</pre>"
       ],
       "metadata": {},
       "output_type": "pyout",
       "prompt_number": 33,
       "text": [
        "<class 'pandas.core.frame.DataFrame'>\n",
        "Int64Index: 3326 entries, 0 to 3325\n",
        "Data columns (total 5 columns):\n",
        "description    3326  non-null values\n",
        "name           3326  non-null values\n",
        "title          3326  non-null values\n",
        "type           3326  non-null values\n",
        "url            3326  non-null values\n",
        "dtypes: object(5)"
       ]
      }
     ],
     "prompt_number": 33
    },
    {
     "cell_type": "code",
     "collapsed": false,
     "input": [
      "extracted_ware[:20]"
     ],
     "language": "python",
     "metadata": {},
     "outputs": [
      {
       "html": [
        "<pre>\n",
        "&ltclass 'pandas.core.frame.DataFrame'&gt\n",
        "Int64Index: 20 entries, 0 to 19\n",
        "Data columns (total 5 columns):\n",
        "description    20  non-null values\n",
        "name           20  non-null values\n",
        "title          20  non-null values\n",
        "type           20  non-null values\n",
        "url            20  non-null values\n",
        "dtypes: object(5)\n",
        "</pre>"
       ],
       "metadata": {},
       "output_type": "pyout",
       "prompt_number": 34,
       "text": [
        "                                          description  \\\n",
        "0                            A very powerful scanner.   \n",
        "1                                       Old speakers.   \n",
        "2                                        A subwoofer.   \n",
        "3                              A macro lens for SLRs.   \n",
        "4                                            A chair.   \n",
        "5                               A basic mobile phone.   \n",
        "6                                       A mic preamp.   \n",
        "7                                      A fancy watch.   \n",
        "8   A solid camera case that meets airline standar...   \n",
        "9                                  A DC power supply.   \n",
        "10                             A 19 inch LCD monitor.   \n",
        "11                                   A 7x zoom loupe.   \n",
        "12  A KVM for sharing monitors, PS/2 mice and keyb...   \n",
        "13                              A cordless presenter.   \n",
        "14                            Field monitor speakers.   \n",
        "15                              A digital multimeter.   \n",
        "16                                    A fountain pen.   \n",
        "17                            A 20.1 inch LCD screen.   \n",
        "18                             A 20 inch LCD monitor.   \n",
        "19                      An industrial sewing machine.   \n",
        "\n",
        "                          name                       title      type  \\\n",
        "0                      10000XL                     10000xl  hardware   \n",
        "1                        104aB                       104ab  hardware   \n",
        "2                          10S                         10s  hardware   \n",
        "3       10x High Definition II      10x-high-definition-ii  hardware   \n",
        "4                     111 Navy                    111-navy  hardware   \n",
        "5                         1208                        1208  hardware   \n",
        "6                        12AY7                       12ay7  hardware   \n",
        "7                   150 Series                  150-series  hardware   \n",
        "8           1510 Carry On Case          1510-carry-on-case  hardware   \n",
        "9                        1621A                       1621a  hardware   \n",
        "10                      1905FP                      1905fp  hardware   \n",
        "11        #1975 Scale Loupe 7x         1975-scale-loupe-7x  hardware   \n",
        "12             2-port PS/2 KVM             2-port-ps-2-kvm  hardware   \n",
        "13  2.4 GHz Cordless Presenter  2.4-ghz-cordless-presenter  hardware   \n",
        "14                       20-20                       20-20  hardware   \n",
        "15                    2000 DMM                    2000-dmm  hardware   \n",
        "16                        2000                        2000  hardware   \n",
        "17                      2001FP                      2001fp  hardware   \n",
        "18           UltraSharp 2007fp                      2007fp  hardware   \n",
        "19                     206RB-5                     206rb-5  hardware   \n",
        "\n",
        "                                                  url  \n",
        "0   http://www.epson.com/cgi-bin/Store/jsp/Product...  \n",
        "1   http://www.kef.com/html/us/explore/about_kef/m...  \n",
        "2   http://www.shopping.com/KRK-KRK-10S-Subwoofer/...  \n",
        "3                          http://opteka.com/10x.aspx  \n",
        "4      http://www.emeco.net/product/111navychair.html  \n",
        "5   http://mobile.softpedia.com/phones/Nokia/Nokia...  \n",
        "6           http://www.ehx.com/products/12ay7-mic-pre  \n",
        "7   http://www.uniformwares.com/150-series-pvd-ros...  \n",
        "8   http://www.pelican.com/cases_detail.php?Case=1510  \n",
        "9   http://www.bkprecision.com/products/power-supp...  \n",
        "10  http://support.dell.com/support/edocs/monitors...  \n",
        "11  http://www.peakoptics.com/index.php?main_page=...  \n",
        "12  http://www.belkin.com/IWCatProductPage.process...  \n",
        "13  http://www.amazon.com/Logitech-2-4-Cordless-Pr...  \n",
        "14  http://reviews.cnet.com/separate-speakers/even...  \n",
        "15  http://www.keithley.com/products/dcac/dmm/broa...  \n",
        "16  http://www.lamyusa.com/lamy_fountain_L01_2000.php  \n",
        "17  http://accessories.us.dell.com/sna/PopupProduc...  \n",
        "18  http://accessories.us.dell.com/sna/products/Di...  \n",
        "19    http://www.consew.com/View/Consew-Model-206RB-5  "
       ]
      }
     ],
     "prompt_number": 34
    },
    {
     "cell_type": "code",
     "collapsed": false,
     "input": [
      "extracted_ware[-20:]"
     ],
     "language": "python",
     "metadata": {},
     "outputs": [
      {
       "html": [
        "<pre>\n",
        "&ltclass 'pandas.core.frame.DataFrame'&gt\n",
        "Int64Index: 20 entries, 3306 to 3325\n",
        "Data columns (total 5 columns):\n",
        "description    20  non-null values\n",
        "name           20  non-null values\n",
        "title          20  non-null values\n",
        "type           20  non-null values\n",
        "url            20  non-null values\n",
        "dtypes: object(5)\n",
        "</pre>"
       ],
       "metadata": {},
       "output_type": "pyout",
       "prompt_number": 35,
       "text": [
        "                                            description                  name  \\\n",
        "3306  A web site for watching 80's TV commercials an...               YouTube   \n",
        "3307                           A static site generator.                   yst   \n",
        "3308                          A Windows word processor.               yWriter   \n",
        "3309                 Analog-style synthesizer software.                 Z3TA+   \n",
        "3310        3D digital painting and sculpture software.                ZBrush   \n",
        "3311                             A modular synthesiser.                 Zebra   \n",
        "3312     Distraction-free writing software for Windows.             ZenWriter   \n",
        "3313                            A .NET resource editor.  Zeta Resource Editor   \n",
        "3314                         A developer's text editor.              ZeusEdit   \n",
        "3315  An integrated mail, calendar, contact and docu...                Zimbra   \n",
        "3316                           A personal magazine app.            Zite (iOS)   \n",
        "3317                                    An IRC bouncer.                   znc   \n",
        "3318             A Mac app to play interactive fiction.                  Zoom   \n",
        "3319           A window resizer/mover tool for the Mac.                 Zooom   \n",
        "3320                      A visual bookmarking service.               Zootool   \n",
        "3321          A Python-based web application framework.                  Zope   \n",
        "3322                                   A research tool.                Zotero   \n",
        "3323       An interactive shell and scripting language.                   zsh   \n",
        "3324       A service to share your media via the cloud.             ZumoDrive   \n",
        "3325                          A 2D sprite-packing tool.               Zwoptex   \n",
        "\n",
        "                     title      type  \\\n",
        "3306               youtube  software   \n",
        "3307                   yst  software   \n",
        "3308               ywriter  software   \n",
        "3309                  z3ta  software   \n",
        "3310                zbrush  software   \n",
        "3311                 zebra  software   \n",
        "3312             zenwriter  software   \n",
        "3313  zeta-resource-editor  software   \n",
        "3314              zeusedit  software   \n",
        "3315                zimbra  software   \n",
        "3316              zite-ios  software   \n",
        "3317                   znc  software   \n",
        "3318                  zoom  software   \n",
        "3319                 zooom  software   \n",
        "3320               zootool  software   \n",
        "3321                  zope  software   \n",
        "3322                zotero  software   \n",
        "3323                   zsh  software   \n",
        "3324             zumodrive  software   \n",
        "3325               zwoptex  software   \n",
        "\n",
        "                                                    url  \n",
        "3306                                http://youtube.com/  \n",
        "3307                         https://github.com/jgm/yst  \n",
        "3308             http://www.spacejock.com/yWriter5.html  \n",
        "3309  http://www.cakewalk.com/Products/Z3TA/Default.asp  \n",
        "3310                   http://www.pixologic.com/zbrush/  \n",
        "3311                         http://www.u-he.com/zebra/  \n",
        "3312             http://www.beenokle.com/zenwriter.html  \n",
        "3313     http://www.zeta-resource-editor.com/index.html  \n",
        "3314                           http://www.zeusedit.com/  \n",
        "3315                             http://www.zimbra.com/  \n",
        "3316  http://itunes.apple.com/us/app/zite-personaliz...  \n",
        "3317                 https://github.com/technomancy/znc  \n",
        "3318  http://www.logicalshift.demon.co.uk/mac/zoom.html  \n",
        "3319                http://coderage-software.com/zooom/  \n",
        "3320                                http://zootool.com/  \n",
        "3321                                   http://zope.org/  \n",
        "3322                             http://www.zotero.org/  \n",
        "3323                                http://www.zsh.org/  \n",
        "3324                          http://www.zumodrive.com/  \n",
        "3325                             http://zwoptexapp.com/  "
       ]
      }
     ],
     "prompt_number": 35
    },
    {
     "cell_type": "code",
     "collapsed": false,
     "input": [
      "user_wares = pf_used_ware.merge(extracted_ware,on='title',how='inner')"
     ],
     "language": "python",
     "metadata": {},
     "outputs": [],
     "prompt_number": 36
    },
    {
     "cell_type": "code",
     "collapsed": false,
     "input": [
      "user_wares[:20]"
     ],
     "language": "python",
     "metadata": {},
     "outputs": [
      {
       "html": [
        "<pre>\n",
        "&ltclass 'pandas.core.frame.DataFrame'&gt\n",
        "Int64Index: 20 entries, 0 to 19\n",
        "Data columns (total 5 columns):\n",
        "title          20  non-null values\n",
        "description    20  non-null values\n",
        "name           20  non-null values\n",
        "type           20  non-null values\n",
        "url            20  non-null values\n",
        "dtypes: object(5)\n",
        "</pre>"
       ],
       "metadata": {},
       "output_type": "pyout",
       "prompt_number": 37,
       "text": [
        "          title                          description         name      type  \\\n",
        "0   macbook-pro  The popular Intel-based Mac laptop.  MacBook Pro  hardware   \n",
        "1   macbook-pro  The popular Intel-based Mac laptop.  MacBook Pro  hardware   \n",
        "2   macbook-pro  The popular Intel-based Mac laptop.  MacBook Pro  hardware   \n",
        "3   macbook-pro  The popular Intel-based Mac laptop.  MacBook Pro  hardware   \n",
        "4   macbook-pro  The popular Intel-based Mac laptop.  MacBook Pro  hardware   \n",
        "5   macbook-pro  The popular Intel-based Mac laptop.  MacBook Pro  hardware   \n",
        "6   macbook-pro  The popular Intel-based Mac laptop.  MacBook Pro  hardware   \n",
        "7   macbook-pro  The popular Intel-based Mac laptop.  MacBook Pro  hardware   \n",
        "8   macbook-pro  The popular Intel-based Mac laptop.  MacBook Pro  hardware   \n",
        "9   macbook-pro  The popular Intel-based Mac laptop.  MacBook Pro  hardware   \n",
        "10  macbook-pro  The popular Intel-based Mac laptop.  MacBook Pro  hardware   \n",
        "11  macbook-pro  The popular Intel-based Mac laptop.  MacBook Pro  hardware   \n",
        "12  macbook-pro  The popular Intel-based Mac laptop.  MacBook Pro  hardware   \n",
        "13  macbook-pro  The popular Intel-based Mac laptop.  MacBook Pro  hardware   \n",
        "14  macbook-pro  The popular Intel-based Mac laptop.  MacBook Pro  hardware   \n",
        "15  macbook-pro  The popular Intel-based Mac laptop.  MacBook Pro  hardware   \n",
        "16  macbook-pro  The popular Intel-based Mac laptop.  MacBook Pro  hardware   \n",
        "17  macbook-pro  The popular Intel-based Mac laptop.  MacBook Pro  hardware   \n",
        "18  macbook-pro  The popular Intel-based Mac laptop.  MacBook Pro  hardware   \n",
        "19  macbook-pro  The popular Intel-based Mac laptop.  MacBook Pro  hardware   \n",
        "\n",
        "                                 url  \n",
        "0   http://www.apple.com/macbookpro/  \n",
        "1   http://www.apple.com/macbookpro/  \n",
        "2   http://www.apple.com/macbookpro/  \n",
        "3   http://www.apple.com/macbookpro/  \n",
        "4   http://www.apple.com/macbookpro/  \n",
        "5   http://www.apple.com/macbookpro/  \n",
        "6   http://www.apple.com/macbookpro/  \n",
        "7   http://www.apple.com/macbookpro/  \n",
        "8   http://www.apple.com/macbookpro/  \n",
        "9   http://www.apple.com/macbookpro/  \n",
        "10  http://www.apple.com/macbookpro/  \n",
        "11  http://www.apple.com/macbookpro/  \n",
        "12  http://www.apple.com/macbookpro/  \n",
        "13  http://www.apple.com/macbookpro/  \n",
        "14  http://www.apple.com/macbookpro/  \n",
        "15  http://www.apple.com/macbookpro/  \n",
        "16  http://www.apple.com/macbookpro/  \n",
        "17  http://www.apple.com/macbookpro/  \n",
        "18  http://www.apple.com/macbookpro/  \n",
        "19  http://www.apple.com/macbookpro/  "
       ]
      }
     ],
     "prompt_number": 37
    },
    {
     "cell_type": "code",
     "collapsed": false,
     "input": [
      "user_wares.ix[user_wares.type=='hardware'].title.value_counts()[:10].plot(kind='barh')"
     ],
     "language": "python",
     "metadata": {},
     "outputs": [
      {
       "metadata": {},
       "output_type": "pyout",
       "prompt_number": 38,
       "text": [
        "<matplotlib.axes.AxesSubplot at 0x109ce8dd0>"
       ]
      },
      {
       "metadata": {},
       "output_type": "display_data",
       "png": "[encoded data removed]",
       "text": [
        "<matplotlib.figure.Figure at 0x109ce8fd0>"
       ]
      }
     ],
     "prompt_number": 38
    },
    {
     "cell_type": "code",
     "collapsed": false,
     "input": [
      "user_wares.ix[user_wares.type=='software'].title.value_counts()[:10].plot(kind='barh')"
     ],
     "language": "python",
     "metadata": {},
     "outputs": [
      {
       "metadata": {},
       "output_type": "pyout",
       "prompt_number": 39,
       "text": [
        "<matplotlib.axes.AxesSubplot at 0x109cff5d0>"
       ]
      },
      {
       "metadata": {},
       "output_type": "display_data",
       "png": "[encoded data removed]",
       "text": [
        "<matplotlib.figure.Figure at 0x109e06390>"
       ]
      }
     ],
     "prompt_number": 39
    },
    {
     "cell_type": "code",
     "collapsed": false,
     "input": [
      "user_wares.ix[user_wares.description.str.contains('headphone')].title.value_counts()[:10].plot(kind='barh')"
     ],
     "language": "python",
     "metadata": {},
     "outputs": [
      {
       "metadata": {},
       "output_type": "pyout",
       "prompt_number": 40,
       "text": [
        "<matplotlib.axes.AxesSubplot at 0x109ee27d0>"
       ]
      },
      {
       "metadata": {},
       "output_type": "display_data",
       "png": "[encoded data removed]",
       "text": [
        "<matplotlib.figure.Figure at 0x109ee2290>"
       ]
      }
     ],
     "prompt_number": 40
    },
    {
     "cell_type": "code",
     "collapsed": false,
     "input": [
      "user_wares.ix[user_wares.description.str.contains('keyboard')].title.value_counts()[:10].plot(kind='barh')"
     ],
     "language": "python",
     "metadata": {},
     "outputs": [
      {
       "metadata": {},
       "output_type": "pyout",
       "prompt_number": 41,
       "text": [
        "<matplotlib.axes.AxesSubplot at 0x10a19b990>"
       ]
      },
      {
       "metadata": {},
       "output_type": "display_data",
       "png": "[encoded data removed]",
       "text": [
        "<matplotlib.figure.Figure at 0x10a18e690>"
       ]
      }
     ],
     "prompt_number": 41
    },
    {
     "cell_type": "code",
     "collapsed": false,
     "input": [
      "user_wares.ix[user_wares.description.str.contains('display')].title.value_counts()[:10].plot(kind='barh')"
     ],
     "language": "python",
     "metadata": {},
     "outputs": [
      {
       "metadata": {},
       "output_type": "pyout",
       "prompt_number": 42,
       "text": [
        "<matplotlib.axes.AxesSubplot at 0x10a1e0790>"
       ]
      },
      {
       "metadata": {},
       "output_type": "display_data",
       "png": "[encoded data removed]",
       "text": [
        "<matplotlib.figure.Figure at 0x10a1cf7d0>"
       ]
      }
     ],
     "prompt_number": 42
    },
    {
     "cell_type": "code",
     "collapsed": false,
     "input": [
      "user_wares.ix[user_wares.description.str.contains('phone')].title.value_counts()[:10].plot(kind='barh')"
     ],
     "language": "python",
     "metadata": {},
     "outputs": [
      {
       "metadata": {},
       "output_type": "pyout",
       "prompt_number": 43,
       "text": [
        "<matplotlib.axes.AxesSubplot at 0x10a27dfd0>"
       ]
      },
      {
       "metadata": {},
       "output_type": "display_data",
       "png": "[encoded data removed]",
       "text": [
        "<matplotlib.figure.Figure at 0x10a286390>"
       ]
      }
     ],
     "prompt_number": 43
    },
    {
     "cell_type": "code",
     "collapsed": false,
     "input": [
      "user_wares.ix[user_wares.description.str.contains('text')].title.value_counts()[:10].plot(kind='barh')"
     ],
     "language": "python",
     "metadata": {},
     "outputs": [
      {
       "metadata": {},
       "output_type": "pyout",
       "prompt_number": 44,
       "text": [
        "<matplotlib.axes.AxesSubplot at 0x10a298890>"
       ]
      },
      {
       "metadata": {},
       "output_type": "display_data",
       "png": "[encoded data removed]",
       "text": [
        "<matplotlib.figure.Figure at 0x10a2ba190>"
       ]
      }
     ],
     "prompt_number": 44
    },
    {
     "cell_type": "code",
     "collapsed": false,
     "input": [],
     "language": "python",
     "metadata": {},
     "outputs": [],
     "prompt_number": 44
    }
   ],
   "metadata": {}
  }
 ]
}